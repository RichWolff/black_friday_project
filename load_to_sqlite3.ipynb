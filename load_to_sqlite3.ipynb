{
 "cells": [
  {
   "cell_type": "markdown",
   "metadata": {},
   "source": [
    "<h1>Loading data to sqlite3</h1>\n",
    "<p>Although not necessary, I wanted to load the data for this project into a local sqlite database. This provides two functions: <ol><li>Standardize the pull of data without being reliant on a raw file</li><li>Show off my ability to use sqlalchemy's ORM and Core apis</li></ol></p>\n",
    "<p>\n",
    "I'll first load the data in through pandas, separate out the data into it's respective tables, and then use the core api to import the data into their Table models I created using this data source</p>\n",
    "\n",
    "<p><i><b>Note:</b> I've changed all nulls is product category data to a -1 to represent no category</i></p>"
   ]
  },
  {
   "cell_type": "code",
   "execution_count": 1,
   "metadata": {
    "collapsed": true
   },
   "outputs": [],
   "source": [
    "from sqlalchemy import create_engine\n",
    "import pandas as pd\n",
    "import numpy as np\n",
    "import sqlite3\n",
    "from config import db_engine\n",
    "\n",
    "from model.model import User, Product, Transaction\n",
    "from sqlalchemy.orm import sessionmaker"
   ]
  },
  {
   "cell_type": "code",
   "execution_count": 2,
   "metadata": {
    "collapsed": true
   },
   "outputs": [],
   "source": [
    "#Get Model Session\n",
    "Session = sessionmaker()\n",
    "\n",
    "#Create connection to model\n",
    "engine = create_engine(db_engine)\n",
    "Session.configure(bind=db_engine)\n",
    "\n",
    "#Get session object\n",
    "session = Session()"
   ]
  },
  {
   "cell_type": "code",
   "execution_count": 3,
   "metadata": {
    "collapsed": true
   },
   "outputs": [],
   "source": [
    "# Load data to dataframe\n",
    "df = pd.read_csv('BlackFriday.csv')"
   ]
  },
  {
   "cell_type": "code",
   "execution_count": 4,
   "metadata": {
    "collapsed": true
   },
   "outputs": [],
   "source": [
    "# Get columns for use in each data table/data frame.\n",
    "user_data = ['User_ID','Gender','Age','Occupation','City_Category','Stay_In_Current_City_Years','Marital_Status']\n",
    "product_data = ['Product_ID','Product_Category_1','Product_Category_2','Product_Category_3']\n",
    "transaction_table = ['User_ID','Product_ID','Purchase']"
   ]
  },
  {
   "cell_type": "code",
   "execution_count": 5,
   "metadata": {
    "collapsed": true
   },
   "outputs": [],
   "source": [
    "# Create dataframes of tables to insert into database\n",
    "users = df[user_data].drop_duplicates()\n",
    "products = df[product_data].drop_duplicates()\n",
    "transactions = df[transaction_table].copy()"
   ]
  },
  {
   "cell_type": "code",
   "execution_count": 6,
   "metadata": {
    "collapsed": true
   },
   "outputs": [],
   "source": [
    "# match columns with database table object\n",
    "users.columns = ['id','gender','age','occupation','city_category','years_in_current_city','marital_status']\n",
    "products.columns = ['id','product_category_1','product_category_2','product_category_3']\n",
    "transactions.columns = ['user_id','product_id','income']"
   ]
  },
  {
   "cell_type": "code",
   "execution_count": 7,
   "metadata": {},
   "outputs": [
    {
     "data": {
      "text/plain": [
       "<sqlalchemy.engine.result.ResultProxy at 0x11adf1be0>"
      ]
     },
     "execution_count": 7,
     "metadata": {},
     "output_type": "execute_result"
    }
   ],
   "source": [
    "# Replace np.nan with None\n",
    "users = users.where((pd.notnull(users)), None)\n",
    "\n",
    "#Import users\n",
    "engine.execute(\n",
    "        User.__table__.insert(),\n",
    "        users.to_dict(orient='records')\n",
    "    )"
   ]
  },
  {
   "cell_type": "code",
   "execution_count": 8,
   "metadata": {
    "scrolled": false
   },
   "outputs": [
    {
     "data": {
      "text/plain": [
       "<sqlalchemy.engine.result.ResultProxy at 0x1152a41d0>"
      ]
     },
     "execution_count": 8,
     "metadata": {},
     "output_type": "execute_result"
    }
   ],
   "source": [
    "# Replace np.nan with None\n",
    "products = products.where((pd.notnull(products)), None)\n",
    "\n",
    "#Import products\n",
    "engine.execute(\n",
    "        Product.__table__.insert(),\n",
    "        products.to_dict(orient='records')\n",
    "    )"
   ]
  },
  {
   "cell_type": "code",
   "execution_count": 9,
   "metadata": {},
   "outputs": [
    {
     "data": {
      "text/plain": [
       "<sqlalchemy.engine.result.ResultProxy at 0x1152a4438>"
      ]
     },
     "execution_count": 9,
     "metadata": {},
     "output_type": "execute_result"
    }
   ],
   "source": [
    "# Replace np.nan with None\n",
    "transactions = transactions.where((pd.notnull(transactions)), None)\n",
    "\n",
    "#Import products\n",
    "engine.execute(\n",
    "        Transaction.__table__.insert(),\n",
    "        transactions.to_dict(orient='records')\n",
    "    )"
   ]
  }
 ],
 "metadata": {
  "kernelspec": {
   "display_name": "Python 3",
   "language": "python",
   "name": "python3"
  },
  "language_info": {
   "codemirror_mode": {
    "name": "ipython",
    "version": 3
   },
   "file_extension": ".py",
   "mimetype": "text/x-python",
   "name": "python",
   "nbconvert_exporter": "python",
   "pygments_lexer": "ipython3",
   "version": "3.6.1"
  }
 },
 "nbformat": 4,
 "nbformat_minor": 2
}
